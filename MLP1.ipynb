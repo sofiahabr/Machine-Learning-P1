{
 "cells": [
  {
   "cell_type": "markdown",
   "id": "0",
   "metadata": {},
   "source": [
    "# Machine Learning Project\n",
    "\n",
    "Using dataset from Kaggle.com labeled \"Logistic Regression to predict Heart Disease\"\n",
    "\n",
    "#### Source\n",
    "The dataset is publically available on the Kaggle website, and it is from an ongoing cardiovascular study on residents of the town of Framingham, Massachusetts. The classification goal is to predict whether the patient has 10-year risk of future coronary heart disease (CHD).The dataset provides the patients’ information. It includes over 4,000 records and 15 attributes.\n",
    "\n",
    "#### Variables\n",
    "Each attribute is a potential risk factor. There are both demographic, behavioral and medical risk factors."
   ]
  },
  {
   "cell_type": "markdown",
   "id": "1",
   "metadata": {},
   "source": [
    "## Introduction of dataset"
   ]
  },
  {
   "cell_type": "code",
   "execution_count": null,
   "id": "2",
   "metadata": {},
   "outputs": [],
   "source": [
    "# Imports\n",
    "import pandas as pd\n",
    "import numpy as np\n",
    "import matplotlib.pyplot as plt\n",
    "import seaborn as sns"
   ]
  },
  {
   "cell_type": "code",
   "execution_count": null,
   "id": "3",
   "metadata": {},
   "outputs": [],
   "source": [
    "df = pd.read_csv('framingham.csv')\n",
    "\n",
    "print(df.head())"
   ]
  },
  {
   "cell_type": "markdown",
   "id": "4",
   "metadata": {},
   "source": [
    "## Visualization of dataset\n",
    "Following is a visualization of the dataset\n",
    "### Dataset Overview"
   ]
  },
  {
   "cell_type": "code",
   "execution_count": null,
   "id": "5",
   "metadata": {},
   "outputs": [],
   "source": [
    "print(f\"Dataset Shape: {df.shape}\")\n",
    "\n",
    "print(f\"Number of Instances: {df.shape[0]}\")\n",
    "print(f\"Number of Features: {df.shape[1]}\")\n",
    "\n",
    "print(\"\\nFirst few rows:\")\n",
    "print(df.head())\n",
    "\n",
    "print(\"\\nData Types:\")\n",
    "print(df.dtypes)\n",
    "\n",
    "print(\"\\nMissing Values:\")\n",
    "print(df.isnull().sum())\n",
    "\n",
    "print(\"\\nBasic Statistics:\")\n",
    "print(df.describe())\n"
   ]
  },
  {
   "cell_type": "markdown",
   "id": "6",
   "metadata": {},
   "source": [
    "### Target Variable Analysis"
   ]
  },
  {
   "cell_type": "code",
   "execution_count": null,
   "id": "7",
   "metadata": {},
   "outputs": [],
   "source": [
    "target_counts = df['TenYearCHD'].value_counts()\n",
    "\n",
    "print(target_counts)\n",
    "\n",
    "print(f\"Class Distribution: {target_counts[0]} (Class 0) vs {target_counts[1]} (Class 1)\")\n",
    "print(f\"Percentage: {target_counts[0]/len(df)*100:.2f}% vs {target_counts[1]/len(df)*100:.2f}%\")\n"
   ]
  },
  {
   "cell_type": "markdown",
   "id": "8",
   "metadata": {},
   "source": [
    "### Visualizations\n"
   ]
  },
  {
   "cell_type": "code",
   "execution_count": null,
   "id": "9",
   "metadata": {},
   "outputs": [],
   "source": [
    "# Create a figure with multiple subplots\n",
    "fig = plt.figure(figsize=(20, 24))\n",
    "\n",
    "# 3.1 Target Variable Distribution\n",
    "ax1 = plt.subplot(5, 3, 1)\n",
    "target_counts.plot(kind='bar', ax=ax1, color=['skyblue', 'salmon'])\n",
    "ax1.set_title('Target Variable Distribution (TenYearCHD)', fontsize=12, fontweight='bold')\n",
    "ax1.set_xlabel('Class')\n",
    "ax1.set_ylabel('Count')\n",
    "ax1.set_xticklabels(['No CHD (0)', 'CHD (1)'], rotation=0)\n",
    "\n",
    "# 3.2 Target Variable Pie Chart - FIXED using .values to convert pandas Series\n",
    "ax2 = plt.subplot(5, 3, 2)\n",
    "ax2.pie(target_counts.values, labels=['No CHD (0)', 'CHD (1)'], autopct='%1.1f%%', \n",
    "        colors=['skyblue', 'salmon'], startangle=90)\n",
    "ax2.set_title('Target Variable Proportion', fontsize=12, fontweight='bold')\n",
    "\n",
    "# 3.3 Numerical Features Overview - Distributions\n",
    "numerical_cols = df.select_dtypes(include=[np.number]).columns.tolist()\n",
    "if 'TenYearCHD' in numerical_cols:\n",
    "    numerical_cols.remove('TenYearCHD')  # Remove target variable\n",
    "\n",
    "ax3 = plt.subplot(5, 3, 3)\n",
    "ax3.axis('off')\n",
    "ax3.text(0.1, 0.9, f'Numerical Features: {len(numerical_cols)}', fontsize=12, fontweight='bold')\n",
    "ax3.text(0.1, 0.7, ', '.join(numerical_cols[:5]), fontsize=9, wrap=True)\n",
    "if len(numerical_cols) > 5:\n",
    "    ax3.text(0.1, 0.4, ', '.join(numerical_cols[5:]), fontsize=9, wrap=True)\n",
    "ax3.set_title('Numerical Features List', fontsize=12, fontweight='bold')\n",
    "\n",
    "# 3.4-3.8 Distributions of Key Numerical Features\n",
    "key_numerical = ['age', 'totChol', 'sysBP', 'BMI', 'heartRate']\n",
    "for idx, col in enumerate(key_numerical):\n",
    "    if col in df.columns:\n",
    "        ax = plt.subplot(5, 3, 4 + idx)\n",
    "        df[col].hist(bins=30, ax=ax, color='steelblue', edgecolor='black')\n",
    "        ax.set_title(f'Distribution of {col}', fontsize=10, fontweight='bold')\n",
    "        ax.set_xlabel(col)\n",
    "        ax.set_ylabel('Frequency')\n",
    "\n",
    "# 3.9 Box plots for numerical features (to show outliers)\n",
    "ax9 = plt.subplot(5, 3, 9)\n",
    "# Filter to only columns that exist\n",
    "existing_numerical = [col for col in key_numerical if col in df.columns]\n",
    "if existing_numerical:\n",
    "    df[existing_numerical].boxplot(ax=ax9)\n",
    "    ax9.set_title('Box Plots of Key Numerical Features', fontsize=10, fontweight='bold')\n",
    "    ax9.tick_params(axis='x', rotation=45)\n",
    "\n",
    "# 3.10 Categorical/Binary Features Distribution\n",
    "categorical_cols = ['male', 'currentSmoker', 'BPMeds', 'prevalentStroke', 'prevalentHyp', 'diabetes']\n",
    "# Filter to only columns that exist\n",
    "existing_categorical = [col for col in categorical_cols if col in df.columns]\n",
    "\n",
    "ax10 = plt.subplot(5, 3, 10)\n",
    "if existing_categorical:\n",
    "    categorical_data = [df[col].sum() for col in existing_categorical]\n",
    "    ax10.barh(existing_categorical, categorical_data, color='lightcoral')\n",
    "    ax10.set_title('Count of Binary Features (1 = Yes)', fontsize=10, fontweight='bold')\n",
    "    ax10.set_xlabel('Count of Positive Cases')\n",
    "else:\n",
    "    ax10.text(0.5, 0.5, 'No categorical features', ha='center', va='center')\n",
    "\n",
    "# 3.11 Missing Values Visualization\n",
    "ax11 = plt.subplot(5, 3, 11)\n",
    "missing_data = df.isnull().sum()\n",
    "missing_data = missing_data[missing_data > 0]\n",
    "if len(missing_data) > 0:\n",
    "    missing_data.plot(kind='barh', ax=ax11, color='orange')\n",
    "    ax11.set_title('Missing Values by Feature', fontsize=10, fontweight='bold')\n",
    "    ax11.set_xlabel('Count')\n",
    "else:\n",
    "    ax11.text(0.5, 0.5, 'No Missing Values', ha='center', va='center', fontsize=12)\n",
    "    ax11.set_title('Missing Values Analysis', fontsize=10, fontweight='bold')\n",
    "\n",
    "# 3.12 Correlation Heatmap\n",
    "ax12 = plt.subplot(5, 3, 12)\n",
    "correlation_matrix = df.corr(numeric_only=True)\n",
    "sns.heatmap(correlation_matrix, annot=False, cmap='coolwarm', ax=ax12, cbar_kws={'label': 'Correlation'})\n",
    "ax12.set_title('Correlation Matrix Heatmap', fontsize=10, fontweight='bold')\n",
    "\n",
    "# 3.13-3.14 Target vs Key Features\n",
    "ax13 = plt.subplot(5, 3, 13)\n",
    "if 'age' in df.columns and 'TenYearCHD' in df.columns:\n",
    "    age_by_chd = df.groupby('TenYearCHD')['age'].mean()\n",
    "    ax13.bar(range(len(age_by_chd)), age_by_chd.values, color=['skyblue', 'salmon'])\n",
    "    ax13.set_title('Average Age by CHD Status', fontsize=10, fontweight='bold')\n",
    "    ax13.set_ylabel('Average Age')\n",
    "    ax13.set_xticks(range(len(age_by_chd)))\n",
    "    ax13.set_xticklabels(age_by_chd.index, rotation=0)\n",
    "\n",
    "ax14 = plt.subplot(5, 3, 14)\n",
    "if 'BMI' in df.columns and 'TenYearCHD' in df.columns:\n",
    "    bmi_by_chd = df.groupby('TenYearCHD')['BMI'].mean()\n",
    "    ax14.bar(range(len(bmi_by_chd)), bmi_by_chd.values, color=['skyblue', 'salmon'])\n",
    "    ax14.set_title('Average BMI by CHD Status', fontsize=10, fontweight='bold')\n",
    "    ax14.set_ylabel('Average BMI')\n",
    "    ax14.set_xticks(range(len(bmi_by_chd)))\n",
    "    ax14.set_xticklabels(bmi_by_chd.index, rotation=0)\n",
    "\n",
    "ax15 = plt.subplot(5, 3, 15)\n",
    "if 'male' in df.columns and 'TenYearCHD' in df.columns:\n",
    "    male_by_chd = df.groupby('TenYearCHD')['male'].mean()\n",
    "    ax15.bar(range(len(male_by_chd)), male_by_chd.values, color=['skyblue', 'salmon'])\n",
    "    ax15.set_title('Proportion of Males by CHD Status', fontsize=10, fontweight='bold')\n",
    "    ax15.set_ylabel('Proportion Male')\n",
    "    ax15.set_xticks(range(len(male_by_chd)))\n",
    "    ax15.set_xticklabels(male_by_chd.index, rotation=0)\n",
    "\n",
    "plt.tight_layout()\n",
    "plt.savefig('dataset_visualization_complete.png', dpi=300, bbox_inches='tight')\n",
    "plt.show()\n"
   ]
  },
  {
   "cell_type": "markdown",
   "id": "10",
   "metadata": {},
   "source": [
    "### Additional analysis"
   ]
  },
  {
   "cell_type": "code",
   "execution_count": null,
   "id": "11",
   "metadata": {},
   "outputs": [],
   "source": [
    "# Identify numerical, categorical, ordinal\n",
    "numerical_features = df.select_dtypes(include=[np.number]).columns.tolist()\n",
    "categorical_features = df.select_dtypes(include=['category']).columns.tolist()\n",
    "\n",
    "print(f\"\\nNumerical Features ({len(numerical_features)}):\")\n",
    "for feat in numerical_features:\n",
    "    print(f\"  - {feat}: range [{df[feat].min():.2f}, {df[feat].max():.2f}]\")\n",
    "\n",
    "print(f\"\\nBinary/Categorical Features ({len(categorical_features)}):\")\n",
    "for feat in categorical_features:\n",
    "    print(f\"  - {feat}: {df[feat].unique()}\")\n",
    "\n",
    "# Check for ordinal features\n",
    "print(\"\\nPotential Ordinal Features:\")\n",
    "print(\"  - education: 1-4\")"
   ]
  },
  {
   "cell_type": "markdown",
   "id": "12",
   "metadata": {},
   "source": [
    "#### Edits: \n",
    "##### Edit to binary / categorical datatypes:\n",
    "- Gender: Male/Female\n",
    "- Current Smoker: Yes/No\n",
    "- BP Meds: Yes/No\n",
    "- Prevalent Stroke: Yes/No\n",
    "- Prevalent Hyp: Yes/No\n",
    "- Diabetes: Yes/No\n"
   ]
  },
  {
   "cell_type": "code",
   "execution_count": null,
   "id": "13",
   "metadata": {},
   "outputs": [],
   "source": [
    "binary_columns = {\n",
    "    'male': 'Male/Female',\n",
    "    'currentSmoker': 'Yes/No',\n",
    "    'BPMeds': 'Yes/No',\n",
    "    'prevalentStroke': 'Yes/No',\n",
    "    'prevalentHyp': 'Yes/No',\n",
    "    'diabetes': 'Yes/No'\n",
    "}\n",
    "\n",
    "# Method 1: Convert to category datatype (recommended for machine learning)\n",
    "for col in binary_columns.keys():\n",
    "    if col in df.columns:\n",
    "        df[col] = df[col].astype('category')\n",
    "\n",
    "\n",
    "# Check the datatypes\n",
    "print(\"Data types after conversion:\")\n",
    "print(df.dtypes)\n",
    "print(\"\\n\")\n",
    "\n",
    "# Display first few rows to verify\n",
    "print(\"First few rows:\")\n",
    "print(df.head())\n",
    "\n",
    "# Save the converted dataset\n",
    "df.to_csv('framingham.csv', index=False)"
   ]
  },
  {
   "cell_type": "markdown",
   "id": "14",
   "metadata": {},
   "source": [
    "### Data Quality Report"
   ]
  },
  {
   "cell_type": "code",
   "execution_count": null,
   "id": "15",
   "metadata": {},
   "outputs": [],
   "source": [
    "print(f\"Total Instances: {len(df)}\")\n",
    "print(f\"Total Features: {len(df.columns)}\")\n",
    "print(f\"Complete Cases (no missing): {len(df.dropna())}\")\n",
    "print(f\"Incomplete Cases: {len(df) - len(df.dropna())}\")\n",
    "print(f\"Memory Usage: {df.memory_usage(deep=True).sum() / 1024**2:.2f} MB\")"
   ]
  },
  {
   "cell_type": "code",
   "execution_count": null,
   "id": "15",
   "metadata": {},
   "outputs": [],
   "source": []
  }
 ],
 "metadata": {
  "kernelspec": {
   "display_name": "Python 3",
   "language": "python",
   "name": "python3"
  },
  "language_info": {
   "codemirror_mode": {
    "name": "ipython",
    "version": 3
   },
   "file_extension": ".py",
   "mimetype": "text/x-python",
   "name": "python",
   "nbconvert_exporter": "python",
   "pygments_lexer": "ipython3",
   "version": "3.11.9"
  }
 },
 "nbformat": 4,
 "nbformat_minor": 5
}
