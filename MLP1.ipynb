{
 "cells": [
  {
   "cell_type": "markdown",
   "id": "0",
   "metadata": {},
   "source": [
    "# Machine Learning Project\n",
    "\n",
    "Using dataset from Kaggle.com labeled \"Logistic Regression to predict Heart Disease\"\n",
    "\n",
    "#### Source\n",
    "The dataset is publically available on the Kaggle website, and it is from an ongoing cardiovascular study on residents of the town of Framingham, Massachusetts. The classification goal is to predict whether the patient has 10-year risk of future coronary heart disease (CHD).The dataset provides the patients’ information. It includes over 4,000 records and 15 attributes.\n",
    "\n",
    "#### Variables\n",
    "Each attribute is a potential risk factor. There are both demographic, behavioral and medical risk factors."
   ]
  },
  {
   "cell_type": "markdown",
   "id": "1",
   "metadata": {},
   "source": [
    "## Introduction of dataset"
   ]
  },
  {
   "cell_type": "markdown",
   "id": "2",
   "metadata": {},
   "source": [
    "## Imports and setup"
   ]
  },
  {
   "cell_type": "code",
   "execution_count": null,
   "id": "3",
   "metadata": {},
   "outputs": [],
   "source": [
    "# Imports\n",
    "import pandas as pd\n",
    "import numpy as np\n",
    "import matplotlib.pyplot as plt\n",
    "import seaborn as sns\n",
    "from sklearn.model_selection import train_test_split\n",
    "from sklearn.preprocessing import StandardScaler, OrdinalEncoder\n",
    "from sklearn.pipeline import Pipeline\n",
    "from sklearn.compose import ColumnTransformer\n",
    "from sklearn.impute import SimpleImputer\n",
    "import warnings\n",
    "warnings.filterwarnings('ignore')"
   ]
  },
  {
   "cell_type": "code",
   "execution_count": null,
   "id": "4",
   "metadata": {},
   "outputs": [],
   "source": [
    "# Set visualization style\n",
    "sns.set_style(\"whitegrid\")\n",
    "plt.rcParams['figure.figsize'] = (20, 24)\n",
    "\n",
    "print(\"✓ All libraries imported successfully\")"
   ]
  },
  {
   "cell_type": "markdown",
   "id": "5",
   "metadata": {},
   "source": [
    "## Data loading"
   ]
  },
  {
   "cell_type": "code",
   "execution_count": null,
   "id": "6",
   "metadata": {},
   "outputs": [],
   "source": [
    "df = pd.read_csv('framingham.csv')\n",
    "\n",
    "#Load the dataset\n",
    "print(f\"✓ Dataset loaded successfully\")\n",
    "print(f\"  - Shape: {df.shape}\")\n",
    "print(f\"  - Instances: {df.shape[0]}\")\n",
    "print(f\"  - Features: {df.shape[1]}\")\n"
   ]
  },
  {
   "cell_type": "markdown",
   "id": "7",
   "metadata": {},
   "source": [
    "### The first few rows\n"
   ]
  },
  {
   "cell_type": "code",
   "execution_count": null,
   "id": "8",
   "metadata": {},
   "outputs": [],
   "source": [
    "# Display first few rows\n",
    "print(\"First 5 rows of the dataset:\")\n",
    "print(df.head())"
   ]
  },
  {
   "cell_type": "markdown",
   "id": "9",
   "metadata": {},
   "source": [
    "## Initial data exploration"
   ]
  },
  {
   "cell_type": "markdown",
   "id": "10",
   "metadata": {},
   "source": [
    "### Data types"
   ]
  },
  {
   "cell_type": "code",
   "execution_count": null,
   "id": "11",
   "metadata": {},
   "outputs": [],
   "source": [
    "# Data types\n",
    "print(\"\\nDATA TYPES:\")\n",
    "print(df.dtypes)\n",
    "print()"
   ]
  },
  {
   "cell_type": "markdown",
   "id": "12",
   "metadata": {},
   "source": [
    "### Missing Values"
   ]
  },
  {
   "cell_type": "code",
   "execution_count": null,
   "id": "13",
   "metadata": {},
   "outputs": [],
   "source": [
    "# Missing values\n",
    "print(\"MISSING VALUES:\")\n",
    "missing_values = df.isnull().sum()\n",
    "missing_values = missing_values[missing_values > 0]\n",
    "print(missing_values)\n",
    "print(f\"Total missing values: {df.isnull().sum().sum()}\")\n",
    "print()"
   ]
  },
  {
   "cell_type": "markdown",
   "id": "14",
   "metadata": {},
   "source": [
    "### Basic Statistics"
   ]
  },
  {
   "cell_type": "code",
   "execution_count": null,
   "id": "15",
   "metadata": {},
   "outputs": [],
   "source": [
    "# Basic statistics\n",
    "print(\"BASIC STATISTICS:\")\n",
    "print(df.describe())\n",
    "print()"
   ]
  },
  {
   "cell_type": "markdown",
   "id": "16",
   "metadata": {},
   "source": [
    "### Target Variable Analysis"
   ]
  },
  {
   "cell_type": "code",
   "execution_count": null,
   "id": "17",
   "metadata": {},
   "outputs": [],
   "source": [
    "# Target variable analysis\n",
    "print(\"TARGET VARIABLE ANALYSIS:\")\n",
    "target_counts = df['TenYearCHD'].value_counts()\n",
    "print(f\"Class Distribution:\")\n",
    "print(f\"  - Class 0 (No CHD): {target_counts[0]} ({target_counts[0]/len(df)*100:.2f}%)\")\n",
    "print(f\"  - Class 1 (Has CHD): {target_counts[1]} ({target_counts[1]/len(df)*100:.2f}%)\")\n",
    "print()"
   ]
  },
  {
   "cell_type": "markdown",
   "id": "18",
   "metadata": {},
   "source": [
    "## Visualization of dataset"
   ]
  },
  {
   "cell_type": "markdown",
   "id": "19",
   "metadata": {},
   "source": [
    "### Visualizations\n"
   ]
  },
  {
   "cell_type": "code",
   "execution_count": null,
   "id": "20",
   "metadata": {},
   "outputs": [],
   "source": [
    "# Create a figure with multiple subplots\n",
    "fig = plt.figure(figsize=(20, 24))"
   ]
  },
  {
   "cell_type": "markdown",
   "id": "21",
   "metadata": {},
   "source": [
    "### Target Variable Distribution\n"
   ]
  },
  {
   "cell_type": "code",
   "execution_count": null,
   "id": "22",
   "metadata": {},
   "outputs": [],
   "source": [
    "# Target Variable Distribution\n",
    "ax1 = plt.subplot(5, 3, 1)\n",
    "target_counts.plot(kind='bar', ax=ax1, color=['skyblue', 'salmon'])\n",
    "ax1.set_title('Target Variable Distribution (TenYearCHD)', fontsize=12, fontweight='bold')\n",
    "ax1.set_xlabel('Class')\n",
    "ax1.set_ylabel('Count')\n",
    "ax1.set_xticklabels(['No CHD (0)', 'CHD (1)'], rotation=0)\n",
    "\n",
    "# Target Variable Pie Chart - FIXED using .values to convert pandas Series\n",
    "ax2 = plt.subplot(5, 3, 2)\n",
    "ax2.pie(target_counts.values, labels=['No CHD (0)', 'CHD (1)'], autopct='%1.1f%%', \n",
    "        colors=['skyblue', 'salmon'], startangle=90)\n",
    "ax2.set_title('Target Variable Proportion', fontsize=12, fontweight='bold')"
   ]
  },
  {
   "cell_type": "markdown",
   "id": "23",
   "metadata": {},
   "source": [
    "### Distributions of Numerical Features"
   ]
  },
  {
   "cell_type": "code",
   "execution_count": null,
   "id": "24",
   "metadata": {},
   "outputs": [],
   "source": [
    "# Distributions of Key Numerical Features\n",
    "key_numerical = ['age', 'totChol', 'sysBP', 'BMI', 'heartRate', 'cigsPerDay', 'diaBP', 'glucose']\n",
    "for idx, col in enumerate(key_numerical):\n",
    "    if col in df.columns:\n",
    "        ax = plt.subplot(5, 3, 4 + idx)\n",
    "        df[col].hist(bins=30, ax=ax, color='steelblue', edgecolor='black')\n",
    "        ax.set_title(f'Distribution of {col}', fontsize=10, fontweight='bold')\n",
    "        ax.set_xlabel(col)\n",
    "        ax.set_ylabel('Frequency')"
   ]
  },
  {
   "cell_type": "markdown",
   "id": "25",
   "metadata": {},
   "source": [
    "### Box plots for numerical features (to show outliers)\n"
   ]
  },
  {
   "cell_type": "code",
   "execution_count": null,
   "id": "26",
   "metadata": {},
   "outputs": [],
   "source": [
    "# Box plots for numerical features (to show outliers)\n",
    "ax9 = plt.subplot(5, 3, 9)\n",
    "# Filter to only columns that exist\n",
    "existing_numerical = [col for col in key_numerical if col in df.columns]\n",
    "if existing_numerical:\n",
    "    df[existing_numerical].boxplot(ax=ax9)\n",
    "    ax9.set_title('Box Plots of Key Numerical Features', fontsize=10, fontweight='bold')\n",
    "    ax9.tick_params(axis='x', rotation=45)"
   ]
  },
  {
   "cell_type": "markdown",
   "id": "27",
   "metadata": {},
   "source": [
    "### Categorical/Binary Features Distribution\n"
   ]
  },
  {
   "cell_type": "code",
   "execution_count": null,
   "id": "28",
   "metadata": {},
   "outputs": [],
   "source": [
    "# Categorical/Binary Features Distribution\n",
    "categorical_cols = ['male', 'currentSmoker', 'BPMeds', 'prevalentStroke', 'prevalentHyp', 'diabetes']\n",
    "# Filter to only columns that exist\n",
    "existing_categorical = [col for col in categorical_cols if col in df.columns]\n",
    "\n",
    "ax10 = plt.subplot(5, 3, 10)\n",
    "if existing_categorical:\n",
    "    categorical_data = [df[col].sum() for col in existing_categorical]\n",
    "    ax10.barh(existing_categorical, categorical_data, color='lightcoral')\n",
    "    ax10.set_title('Count of Binary Features (1 = Yes)', fontsize=10, fontweight='bold')\n",
    "    ax10.set_xlabel('Count of Positive Cases')\n",
    "else:\n",
    "    ax10.text(0.5, 0.5, 'No categorical features', ha='center', va='center')\n"
   ]
  },
  {
   "cell_type": "markdown",
   "id": "29",
   "metadata": {},
   "source": [
    "### Missing Values Visualization\n"
   ]
  },
  {
   "cell_type": "code",
   "execution_count": null,
   "id": "30",
   "metadata": {},
   "outputs": [],
   "source": [
    "# Missing Values Visualization\n",
    "ax11 = plt.subplot(5, 3, 11)\n",
    "missing_data = df.isnull().sum()\n",
    "missing_data = missing_data[missing_data > 0]\n",
    "if len(missing_data) > 0:\n",
    "    missing_data.plot(kind='barh', ax=ax11, color='orange')\n",
    "    ax11.set_title('Missing Values by Feature', fontsize=10, fontweight='bold')\n",
    "    ax11.set_xlabel('Count')\n",
    "else:\n",
    "    ax11.text(0.5, 0.5, 'No Missing Values', ha='center', va='center', fontsize=12)\n",
    "    ax11.set_title('Missing Values Analysis', fontsize=10, fontweight='bold')"
   ]
  },
  {
   "cell_type": "markdown",
   "id": "31",
   "metadata": {},
   "source": [
    "### Correlation Heatmap\n"
   ]
  },
  {
   "cell_type": "code",
   "execution_count": null,
   "id": "32",
   "metadata": {},
   "outputs": [],
   "source": [
    "# Correlation Heatmap\n",
    "ax12 = plt.subplot(5, 3, 12)\n",
    "correlation_matrix = df.corr(numeric_only=True)\n",
    "sns.heatmap(correlation_matrix, annot=False, cmap='coolwarm', ax=ax12, cbar_kws={'label': 'Correlation'})\n",
    "ax12.set_title('Correlation Matrix Heatmap', fontsize=10, fontweight='bold')\n"
   ]
  },
  {
   "cell_type": "markdown",
   "id": "33",
   "metadata": {},
   "source": [
    "### Target vs Key Features"
   ]
  },
  {
   "cell_type": "code",
   "execution_count": null,
   "id": "34",
   "metadata": {},
   "outputs": [],
   "source": [
    "# Average Age by CHD Status\n",
    "ax13 = plt.subplot(5, 3, 13)\n",
    "if 'age' in df.columns and 'TenYearCHD' in df.columns:\n",
    "    age_by_chd = df.groupby('TenYearCHD')['age'].mean()\n",
    "    ax13.bar(range(len(age_by_chd)), age_by_chd.values, color=['skyblue', 'salmon'])\n",
    "    ax13.set_title('Average Age by CHD Status', fontsize=10, fontweight='bold')\n",
    "    ax13.set_ylabel('Average Age')\n",
    "    ax13.set_xticks(range(len(age_by_chd)))\n",
    "    ax13.set_xticklabels(age_by_chd.index, rotation=0)"
   ]
  },
  {
   "cell_type": "code",
   "execution_count": null,
   "id": "35",
   "metadata": {},
   "outputs": [],
   "source": [
    "# Average BMI by CHD Status\n",
    "ax14 = plt.subplot(5, 3, 14)\n",
    "if 'BMI' in df.columns and 'TenYearCHD' in df.columns:\n",
    "    bmi_by_chd = df.groupby('TenYearCHD')['BMI'].mean()\n",
    "    ax14.bar(range(len(bmi_by_chd)), bmi_by_chd.values, color=['skyblue', 'salmon'])\n",
    "    ax14.set_title('Average BMI by CHD Status', fontsize=10, fontweight='bold')\n",
    "    ax14.set_ylabel('Average BMI')\n",
    "    ax14.set_xticks(range(len(bmi_by_chd)))\n",
    "    ax14.set_xticklabels(bmi_by_chd.index, rotation=0)"
   ]
  },
  {
   "cell_type": "code",
   "execution_count": null,
   "id": "36",
   "metadata": {},
   "outputs": [],
   "source": [
    "# Proportion of Males by CHD Status\n",
    "ax15 = plt.subplot(5, 3, 15)\n",
    "if 'male' in df.columns and 'TenYearCHD' in df.columns:\n",
    "    male_by_chd = df.groupby('TenYearCHD')['male'].mean()\n",
    "    ax15.bar(range(len(male_by_chd)), male_by_chd.values, color=['skyblue', 'salmon'])\n",
    "    ax15.set_title('Proportion of Males by CHD Status', fontsize=10, fontweight='bold')\n",
    "    ax15.set_ylabel('Proportion Male')\n",
    "    ax15.set_xticks(range(len(male_by_chd)))\n",
    "    ax15.set_xticklabels(male_by_chd.index, rotation=0)\n"
   ]
  },
  {
   "cell_type": "markdown",
   "id": "37",
   "metadata": {},
   "source": [
    "# Feature type identification"
   ]
  },
  {
   "cell_type": "markdown",
   "id": "38",
   "metadata": {},
   "source": [
    "### Numerical Features"
   ]
  },
  {
   "cell_type": "code",
   "execution_count": null,
   "id": "39",
   "metadata": {},
   "outputs": [],
   "source": [
    "# Identify numerical features\n",
    "numerical_features = ['age', 'cigsPerDay', 'totChol', 'sysBP', 'diaBP', \n",
    "                      'BMI', 'heartRate', 'glucose']\n",
    "numerical_features = [f for f in numerical_features if f in df.columns]\n",
    "\n",
    "print(f\"\\nNUMERICAL FEATURES ({len(numerical_features)}):\")\n",
    "for feat in numerical_features:\n",
    "    print(f\"  - {feat}: range [{df[feat].min():.2f}, {df[feat].max():.2f}]\")"
   ]
  },
  {
   "cell_type": "markdown",
   "id": "40",
   "metadata": {},
   "source": [
    "### Categorical Features"
   ]
  },
  {
   "cell_type": "code",
   "execution_count": null,
   "id": "41",
   "metadata": {},
   "outputs": [],
   "source": [
    "# Identify categorical features\n",
    "categorical_features = ['male', 'currentSmoker', 'BPMeds', 'prevalentStroke', \n",
    "                        'prevalentHyp', 'diabetes']\n",
    "categorical_features = [f for f in categorical_features if f in df.columns]\n",
    "\n",
    "print(f\"CATEGORICAL FEATURES ({len(categorical_features)}):\")\n",
    "for feat in categorical_features:\n",
    "    print(f\"  - {feat}: values {df[feat].unique()}\")"
   ]
  },
  {
   "cell_type": "markdown",
   "id": "42",
   "metadata": {},
   "source": [
    "### Ordinal Features"
   ]
  },
  {
   "cell_type": "code",
   "execution_count": null,
   "id": "43",
   "metadata": {},
   "outputs": [],
   "source": [
    "# Identify ordinal features\n",
    "ordinal_features = ['education']\n",
    "ordinal_features = [f for f in ordinal_features if f in df.columns]\n",
    "\n",
    "print(f\"ORDINAL FEATURES ({len(ordinal_features)}):\")\n",
    "for feat in ordinal_features:\n",
    "    print(f\"  - {feat}: levels 1-4 (Some HS → HS/GED → Some College → College+)\")"
   ]
  },
  {
   "cell_type": "code",
   "execution_count": null,
   "id": "44",
   "metadata": {},
   "outputs": [],
   "source": [
    "print(f\"TOTAL FEATURES: {len(numerical_features) + len(categorical_features) + len(ordinal_features)}\")"
   ]
  },
  {
   "cell_type": "markdown",
   "id": "45",
   "metadata": {},
   "source": [
    "### Additional analysis"
   ]
  },
  {
   "cell_type": "markdown",
   "id": "46",
   "metadata": {},
   "source": [
    "#### Edits: \n",
    "##### Edit to binary / categorical datatypes:\n",
    "- Gender: Male/Female\n",
    "- Current Smoker: Yes/No\n",
    "- BP Meds: Yes/No\n",
    "- Prevalent Stroke: Yes/No\n",
    "- Prevalent Hyp: Yes/No\n",
    "- Diabetes: Yes/No\n"
   ]
  },
  {
   "cell_type": "code",
   "execution_count": null,
   "id": "47",
   "metadata": {},
   "outputs": [],
   "source": [
    "\n",
    "binary_columns = {\n",
    "    'male': 'Male/Female',\n",
    "    'currentSmoker': 'Yes/No',\n",
    "    'BPMeds': 'Yes/No',\n",
    "    'prevalentStroke': 'Yes/No',\n",
    "    'prevalentHyp': 'Yes/No',\n",
    "    'diabetes': 'Yes/No'\n",
    "}\n",
    "\n",
    "# Method 1: Convert to category datatype (recommended for machine learning)\n",
    "for col in binary_columns.keys():\n",
    "    if col in df.columns:\n",
    "        df[col] = df[col].astype('category')\n",
    "\n",
    "\n",
    "# Check the datatypes\n",
    "print(\"Data types after conversion:\")\n",
    "print(df.dtypes)\n",
    "print(\"\\n\")\n",
    "\n",
    "# Display first few rows to verify\n",
    "print(\"First few rows:\")\n",
    "print(df.head())\n",
    "\n",
    "# Save the converted dataset\n",
    "df.to_csv('framingham.csv', index=False)"
   ]
  },
  {
   "cell_type": "markdown",
   "id": "48",
   "metadata": {},
   "source": [
    "### Data Quality Report"
   ]
  },
  {
   "cell_type": "code",
   "execution_count": null,
   "id": "49",
   "metadata": {},
   "outputs": [],
   "source": [
    "print(f\"Total Instances: {len(df)}\")\n",
    "print(f\"Total Features: {len(df.columns)}\")\n",
    "print(f\"Complete Cases (no missing): {len(df.dropna())}\")\n",
    "print(f\"Incomplete Cases: {len(df) - len(df.dropna())}\")\n",
    "print(f\"Memory Usage: {df.memory_usage(deep=True).sum() / 1024**2:.2f} MB\")"
   ]
  },
  {
   "cell_type": "code",
   "execution_count": null,
   "id": "50",
   "metadata": {},
   "outputs": [],
   "source": []
  }
 ],
 "metadata": {
  "kernelspec": {
   "display_name": "Python 3",
   "language": "python",
   "name": "python3"
  },
  "language_info": {
   "codemirror_mode": {
    "name": "ipython",
    "version": 3
   },
   "file_extension": ".py",
   "mimetype": "text/x-python",
   "name": "python",
   "nbconvert_exporter": "python",
   "pygments_lexer": "ipython3",
   "version": "3.11.9"
  }
 },
 "nbformat": 4,
 "nbformat_minor": 5
}
