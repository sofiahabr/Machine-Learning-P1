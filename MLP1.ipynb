{
 "cells": [
  {
   "cell_type": "markdown",
   "id": "cf13e1ef",
   "metadata": {},
   "source": [
    "## Machine Learning Project\n",
    "\n",
    "Using dataset from Kaggle.com labeled \"Heart disease?\""
   ]
  },
  {
   "cell_type": "code",
   "execution_count": null,
   "id": "30db9007",
   "metadata": {},
   "outputs": [],
   "source": [
    "import pandas as pd\n",
    "\n",
    "df = pd.read_csv('')\n",
    "\n",
    "print(df.head())\n",
    "print(df.shape)\n",
    "print(df.describe())"
   ]
  }
 ],
 "metadata": {
  "language_info": {
   "name": "python"
  }
 },
 "nbformat": 4,
 "nbformat_minor": 5
}
